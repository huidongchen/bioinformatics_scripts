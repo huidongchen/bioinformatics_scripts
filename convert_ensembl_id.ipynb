{
 "cells": [
  {
   "cell_type": "markdown",
   "id": "0181ca71",
   "metadata": {},
   "source": [
    "Source: https://bioconductor.org/packages/release/bioc/vignettes/biomaRt/inst/doc/accessing_ensembl.html#selecting-an-ensembl-biomart-database-and-dataset"
   ]
  },
  {
   "cell_type": "code",
   "execution_count": 1,
   "id": "66fd3c48",
   "metadata": {},
   "outputs": [],
   "source": [
    "library(biomaRt)"
   ]
  },
  {
   "cell_type": "markdown",
   "id": "8d4d5978",
   "metadata": {},
   "source": [
    "### Step1: Identifying the database you need"
   ]
  },
  {
   "cell_type": "code",
   "execution_count": 2,
   "id": "e4e74a41",
   "metadata": {},
   "outputs": [
    {
     "data": {
      "text/html": [
       "<table class=\"dataframe\">\n",
       "<caption>A data.frame: 4 × 2</caption>\n",
       "<thead>\n",
       "\t<tr><th scope=col>biomart</th><th scope=col>version</th></tr>\n",
       "\t<tr><th scope=col>&lt;chr&gt;</th><th scope=col>&lt;chr&gt;</th></tr>\n",
       "</thead>\n",
       "<tbody>\n",
       "\t<tr><td>genes        </td><td>Ensembl Genes 108     </td></tr>\n",
       "\t<tr><td>mouse_strains</td><td>Mouse strains 108     </td></tr>\n",
       "\t<tr><td>snps         </td><td>Ensembl Variation 108 </td></tr>\n",
       "\t<tr><td>regulation   </td><td>Ensembl Regulation 108</td></tr>\n",
       "</tbody>\n",
       "</table>\n"
      ],
      "text/latex": [
       "A data.frame: 4 × 2\n",
       "\\begin{tabular}{ll}\n",
       " biomart & version\\\\\n",
       " <chr> & <chr>\\\\\n",
       "\\hline\n",
       "\t genes         & Ensembl Genes 108     \\\\\n",
       "\t mouse\\_strains & Mouse strains 108     \\\\\n",
       "\t snps          & Ensembl Variation 108 \\\\\n",
       "\t regulation    & Ensembl Regulation 108\\\\\n",
       "\\end{tabular}\n"
      ],
      "text/markdown": [
       "\n",
       "A data.frame: 4 × 2\n",
       "\n",
       "| biomart &lt;chr&gt; | version &lt;chr&gt; |\n",
       "|---|---|\n",
       "| genes         | Ensembl Genes 108      |\n",
       "| mouse_strains | Mouse strains 108      |\n",
       "| snps          | Ensembl Variation 108  |\n",
       "| regulation    | Ensembl Regulation 108 |\n",
       "\n"
      ],
      "text/plain": [
       "  biomart       version               \n",
       "1 genes         Ensembl Genes 108     \n",
       "2 mouse_strains Mouse strains 108     \n",
       "3 snps          Ensembl Variation 108 \n",
       "4 regulation    Ensembl Regulation 108"
      ]
     },
     "metadata": {},
     "output_type": "display_data"
    }
   ],
   "source": [
    "listEnsembl()"
   ]
  },
  {
   "cell_type": "code",
   "execution_count": 3,
   "id": "f168a5c5",
   "metadata": {},
   "outputs": [
    {
     "data": {
      "text/plain": [
       "Object of class 'Mart':\n",
       "  Using the ENSEMBL_MART_ENSEMBL BioMart database\n",
       "  No dataset selected."
      ]
     },
     "metadata": {},
     "output_type": "display_data"
    }
   ],
   "source": [
    "# we will select the main Ensembl mart, which provides access to gene annotation information\n",
    "ensembl <- useEnsembl(biomart = \"genes\")\n",
    "ensembl"
   ]
  },
  {
   "cell_type": "markdown",
   "id": "74fd4afa",
   "metadata": {},
   "source": [
    "### Step 2: Choosing a dataset"
   ]
  },
  {
   "cell_type": "code",
   "execution_count": 4,
   "id": "c7454f56",
   "metadata": {},
   "outputs": [
    {
     "data": {
      "text/html": [
       "<table class=\"dataframe\">\n",
       "<caption>A data.frame: 6 × 3</caption>\n",
       "<thead>\n",
       "\t<tr><th></th><th scope=col>dataset</th><th scope=col>description</th><th scope=col>version</th></tr>\n",
       "\t<tr><th></th><th scope=col>&lt;I&lt;chr&gt;&gt;</th><th scope=col>&lt;I&lt;chr&gt;&gt;</th><th scope=col>&lt;I&lt;chr&gt;&gt;</th></tr>\n",
       "</thead>\n",
       "<tbody>\n",
       "\t<tr><th scope=row>1</th><td>abrachyrhynchus_gene_ensembl</td><td>Pink-footed goose genes (ASM259213v1)</td><td>ASM259213v1</td></tr>\n",
       "\t<tr><th scope=row>2</th><td>acalliptera_gene_ensembl    </td><td>Eastern happy genes (fAstCal1.2)     </td><td>fAstCal1.2 </td></tr>\n",
       "\t<tr><th scope=row>3</th><td>acarolinensis_gene_ensembl  </td><td>Green anole genes (AnoCar2.0v2)      </td><td>AnoCar2.0v2</td></tr>\n",
       "\t<tr><th scope=row>4</th><td>acchrysaetos_gene_ensembl   </td><td>Golden eagle genes (bAquChr1.2)      </td><td>bAquChr1.2 </td></tr>\n",
       "\t<tr><th scope=row>5</th><td>acitrinellus_gene_ensembl   </td><td>Midas cichlid genes (Midas_v5)       </td><td>Midas_v5   </td></tr>\n",
       "\t<tr><th scope=row>6</th><td>amelanoleuca_gene_ensembl   </td><td>Giant panda genes (ASM200744v2)      </td><td>ASM200744v2</td></tr>\n",
       "</tbody>\n",
       "</table>\n"
      ],
      "text/latex": [
       "A data.frame: 6 × 3\n",
       "\\begin{tabular}{r|lll}\n",
       "  & dataset & description & version\\\\\n",
       "  & <I<chr>> & <I<chr>> & <I<chr>>\\\\\n",
       "\\hline\n",
       "\t1 & abrachyrhynchus\\_gene\\_ensembl & Pink-footed goose genes (ASM259213v1) & ASM259213v1\\\\\n",
       "\t2 & acalliptera\\_gene\\_ensembl     & Eastern happy genes (fAstCal1.2)      & fAstCal1.2 \\\\\n",
       "\t3 & acarolinensis\\_gene\\_ensembl   & Green anole genes (AnoCar2.0v2)       & AnoCar2.0v2\\\\\n",
       "\t4 & acchrysaetos\\_gene\\_ensembl    & Golden eagle genes (bAquChr1.2)       & bAquChr1.2 \\\\\n",
       "\t5 & acitrinellus\\_gene\\_ensembl    & Midas cichlid genes (Midas\\_v5)        & Midas\\_v5   \\\\\n",
       "\t6 & amelanoleuca\\_gene\\_ensembl    & Giant panda genes (ASM200744v2)       & ASM200744v2\\\\\n",
       "\\end{tabular}\n"
      ],
      "text/markdown": [
       "\n",
       "A data.frame: 6 × 3\n",
       "\n",
       "| <!--/--> | dataset &lt;I&lt;chr&gt;&gt; | description &lt;I&lt;chr&gt;&gt; | version &lt;I&lt;chr&gt;&gt; |\n",
       "|---|---|---|---|\n",
       "| 1 | abrachyrhynchus_gene_ensembl | Pink-footed goose genes (ASM259213v1) | ASM259213v1 |\n",
       "| 2 | acalliptera_gene_ensembl     | Eastern happy genes (fAstCal1.2)      | fAstCal1.2  |\n",
       "| 3 | acarolinensis_gene_ensembl   | Green anole genes (AnoCar2.0v2)       | AnoCar2.0v2 |\n",
       "| 4 | acchrysaetos_gene_ensembl    | Golden eagle genes (bAquChr1.2)       | bAquChr1.2  |\n",
       "| 5 | acitrinellus_gene_ensembl    | Midas cichlid genes (Midas_v5)        | Midas_v5    |\n",
       "| 6 | amelanoleuca_gene_ensembl    | Giant panda genes (ASM200744v2)       | ASM200744v2 |\n",
       "\n"
      ],
      "text/plain": [
       "  dataset                      description                          \n",
       "1 abrachyrhynchus_gene_ensembl Pink-footed goose genes (ASM259213v1)\n",
       "2 acalliptera_gene_ensembl     Eastern happy genes (fAstCal1.2)     \n",
       "3 acarolinensis_gene_ensembl   Green anole genes (AnoCar2.0v2)      \n",
       "4 acchrysaetos_gene_ensembl    Golden eagle genes (bAquChr1.2)      \n",
       "5 acitrinellus_gene_ensembl    Midas cichlid genes (Midas_v5)       \n",
       "6 amelanoleuca_gene_ensembl    Giant panda genes (ASM200744v2)      \n",
       "  version    \n",
       "1 ASM259213v1\n",
       "2 fAstCal1.2 \n",
       "3 AnoCar2.0v2\n",
       "4 bAquChr1.2 \n",
       "5 Midas_v5   \n",
       "6 ASM200744v2"
      ]
     },
     "metadata": {},
     "output_type": "display_data"
    }
   ],
   "source": [
    "datasets <- listDatasets(ensembl)\n",
    "head(datasets)"
   ]
  },
  {
   "cell_type": "code",
   "execution_count": 5,
   "id": "eb5a1511",
   "metadata": {},
   "outputs": [
    {
     "data": {
      "text/html": [
       "<table class=\"dataframe\">\n",
       "<caption>A data.frame: 1 × 3</caption>\n",
       "<thead>\n",
       "\t<tr><th></th><th scope=col>dataset</th><th scope=col>description</th><th scope=col>version</th></tr>\n",
       "\t<tr><th></th><th scope=col>&lt;I&lt;chr&gt;&gt;</th><th scope=col>&lt;I&lt;chr&gt;&gt;</th><th scope=col>&lt;I&lt;chr&gt;&gt;</th></tr>\n",
       "</thead>\n",
       "<tbody>\n",
       "\t<tr><th scope=row>98</th><td>mfascicularis_gene_ensembl</td><td>Crab-eating macaque genes (Macaca_fascicularis_6.0)</td><td>Macaca_fascicularis_6.0</td></tr>\n",
       "</tbody>\n",
       "</table>\n"
      ],
      "text/latex": [
       "A data.frame: 1 × 3\n",
       "\\begin{tabular}{r|lll}\n",
       "  & dataset & description & version\\\\\n",
       "  & <I<chr>> & <I<chr>> & <I<chr>>\\\\\n",
       "\\hline\n",
       "\t98 & mfascicularis\\_gene\\_ensembl & Crab-eating macaque genes (Macaca\\_fascicularis\\_6.0) & Macaca\\_fascicularis\\_6.0\\\\\n",
       "\\end{tabular}\n"
      ],
      "text/markdown": [
       "\n",
       "A data.frame: 1 × 3\n",
       "\n",
       "| <!--/--> | dataset &lt;I&lt;chr&gt;&gt; | description &lt;I&lt;chr&gt;&gt; | version &lt;I&lt;chr&gt;&gt; |\n",
       "|---|---|---|---|\n",
       "| 98 | mfascicularis_gene_ensembl | Crab-eating macaque genes (Macaca_fascicularis_6.0) | Macaca_fascicularis_6.0 |\n",
       "\n"
      ],
      "text/plain": [
       "   dataset                   \n",
       "98 mfascicularis_gene_ensembl\n",
       "   description                                         version                \n",
       "98 Crab-eating macaque genes (Macaca_fascicularis_6.0) Macaca_fascicularis_6.0"
      ]
     },
     "metadata": {},
     "output_type": "display_data"
    }
   ],
   "source": [
    "#searchDatasets(mart = ensembl, pattern = \"hsapiens\")\n",
    "searchDatasets(mart = ensembl, pattern = \"Macaca_fascicularis\")"
   ]
  },
  {
   "cell_type": "code",
   "execution_count": 6,
   "id": "728fbd95",
   "metadata": {},
   "outputs": [],
   "source": [
    "# To use a dataset we can update our Mart object using the function useDataset()\n",
    "ensembl <- useDataset(dataset = \"mfascicularis_gene_ensembl\", mart = ensembl)"
   ]
  },
  {
   "cell_type": "markdown",
   "id": "44fe3d1e",
   "metadata": {},
   "source": [
    "> if the dataset one wants to use is known in advance, we can select a both the database and dataset in one step:\n",
    ">```R\n",
    "ensembl <- useEnsembl(biomart = \"genes\", dataset = \"hsapiens_gene_ensembl\")\n",
    "```"
   ]
  },
  {
   "cell_type": "code",
   "execution_count": 7,
   "id": "b37c9690",
   "metadata": {},
   "outputs": [],
   "source": [
    "attributes = listAttributes(ensembl)"
   ]
  },
  {
   "cell_type": "code",
   "execution_count": 8,
   "id": "5f707874",
   "metadata": {},
   "outputs": [
    {
     "data": {
      "text/html": [
       "<table class=\"dataframe\">\n",
       "<caption>A data.frame: 2 × 3</caption>\n",
       "<thead>\n",
       "\t<tr><th></th><th scope=col>name</th><th scope=col>description</th><th scope=col>page</th></tr>\n",
       "\t<tr><th></th><th scope=col>&lt;chr&gt;</th><th scope=col>&lt;chr&gt;</th><th scope=col>&lt;chr&gt;</th></tr>\n",
       "</thead>\n",
       "<tbody>\n",
       "\t<tr><th scope=row>44</th><td>hgnc_symbol      </td><td>HGNC symbol               </td><td>feature_page</td></tr>\n",
       "\t<tr><th scope=row>62</th><td>uniprot_gn_symbol</td><td>UniProtKB Gene Name symbol</td><td>feature_page</td></tr>\n",
       "</tbody>\n",
       "</table>\n"
      ],
      "text/latex": [
       "A data.frame: 2 × 3\n",
       "\\begin{tabular}{r|lll}\n",
       "  & name & description & page\\\\\n",
       "  & <chr> & <chr> & <chr>\\\\\n",
       "\\hline\n",
       "\t44 & hgnc\\_symbol       & HGNC symbol                & feature\\_page\\\\\n",
       "\t62 & uniprot\\_gn\\_symbol & UniProtKB Gene Name symbol & feature\\_page\\\\\n",
       "\\end{tabular}\n"
      ],
      "text/markdown": [
       "\n",
       "A data.frame: 2 × 3\n",
       "\n",
       "| <!--/--> | name &lt;chr&gt; | description &lt;chr&gt; | page &lt;chr&gt; |\n",
       "|---|---|---|---|\n",
       "| 44 | hgnc_symbol       | HGNC symbol                | feature_page |\n",
       "| 62 | uniprot_gn_symbol | UniProtKB Gene Name symbol | feature_page |\n",
       "\n"
      ],
      "text/plain": [
       "   name              description                page        \n",
       "44 hgnc_symbol       HGNC symbol                feature_page\n",
       "62 uniprot_gn_symbol UniProtKB Gene Name symbol feature_page"
      ]
     },
     "metadata": {},
     "output_type": "display_data"
    }
   ],
   "source": [
    "searchAttributes(mart = ensembl, pattern = \"symbol\")"
   ]
  },
  {
   "cell_type": "code",
   "execution_count": 9,
   "id": "2b3f5d9f",
   "metadata": {},
   "outputs": [
    {
     "data": {
      "text/html": [
       "<table class=\"dataframe\">\n",
       "<caption>A data.frame: 6 × 3</caption>\n",
       "<thead>\n",
       "\t<tr><th></th><th scope=col>V1</th><th scope=col>V2</th><th scope=col>V3</th></tr>\n",
       "\t<tr><th></th><th scope=col>&lt;chr&gt;</th><th scope=col>&lt;chr&gt;</th><th scope=col>&lt;chr&gt;</th></tr>\n",
       "</thead>\n",
       "<tbody>\n",
       "\t<tr><th scope=row>1</th><td>ENSMFAG00000044637</td><td>PGBD2             </td><td>Gene Expression</td></tr>\n",
       "\t<tr><th scope=row>2</th><td>ENSMFAG00000011984</td><td>U6                </td><td>Gene Expression</td></tr>\n",
       "\t<tr><th scope=row>3</th><td>ENSMFAG00000039056</td><td>ZNF692            </td><td>Gene Expression</td></tr>\n",
       "\t<tr><th scope=row>4</th><td>ENSMFAG00000030010</td><td>ZNF672            </td><td>Gene Expression</td></tr>\n",
       "\t<tr><th scope=row>5</th><td>ENSMFAG00000002737</td><td>SH3BP5L           </td><td>Gene Expression</td></tr>\n",
       "\t<tr><th scope=row>6</th><td>ENSMFAG00000005691</td><td>ENSMFAG00000005691</td><td>Gene Expression</td></tr>\n",
       "</tbody>\n",
       "</table>\n"
      ],
      "text/latex": [
       "A data.frame: 6 × 3\n",
       "\\begin{tabular}{r|lll}\n",
       "  & V1 & V2 & V3\\\\\n",
       "  & <chr> & <chr> & <chr>\\\\\n",
       "\\hline\n",
       "\t1 & ENSMFAG00000044637 & PGBD2              & Gene Expression\\\\\n",
       "\t2 & ENSMFAG00000011984 & U6                 & Gene Expression\\\\\n",
       "\t3 & ENSMFAG00000039056 & ZNF692             & Gene Expression\\\\\n",
       "\t4 & ENSMFAG00000030010 & ZNF672             & Gene Expression\\\\\n",
       "\t5 & ENSMFAG00000002737 & SH3BP5L            & Gene Expression\\\\\n",
       "\t6 & ENSMFAG00000005691 & ENSMFAG00000005691 & Gene Expression\\\\\n",
       "\\end{tabular}\n"
      ],
      "text/markdown": [
       "\n",
       "A data.frame: 6 × 3\n",
       "\n",
       "| <!--/--> | V1 &lt;chr&gt; | V2 &lt;chr&gt; | V3 &lt;chr&gt; |\n",
       "|---|---|---|---|\n",
       "| 1 | ENSMFAG00000044637 | PGBD2              | Gene Expression |\n",
       "| 2 | ENSMFAG00000011984 | U6                 | Gene Expression |\n",
       "| 3 | ENSMFAG00000039056 | ZNF692             | Gene Expression |\n",
       "| 4 | ENSMFAG00000030010 | ZNF672             | Gene Expression |\n",
       "| 5 | ENSMFAG00000002737 | SH3BP5L            | Gene Expression |\n",
       "| 6 | ENSMFAG00000005691 | ENSMFAG00000005691 | Gene Expression |\n",
       "\n"
      ],
      "text/plain": [
       "  V1                 V2                 V3             \n",
       "1 ENSMFAG00000044637 PGBD2              Gene Expression\n",
       "2 ENSMFAG00000011984 U6                 Gene Expression\n",
       "3 ENSMFAG00000039056 ZNF692             Gene Expression\n",
       "4 ENSMFAG00000030010 ZNF672             Gene Expression\n",
       "5 ENSMFAG00000002737 SH3BP5L            Gene Expression\n",
       "6 ENSMFAG00000005691 ENSMFAG00000005691 Gene Expression"
      ]
     },
     "metadata": {},
     "output_type": "display_data"
    }
   ],
   "source": [
    "df_genes <- read.csv('../data/Sample_210017A_3_120h/features.tsv.gz', sep = '\\t', header = FALSE, row.names = NULL)\n",
    "head(df_genes)"
   ]
  },
  {
   "cell_type": "code",
   "execution_count": 10,
   "id": "9ef4bb59",
   "metadata": {},
   "outputs": [
    {
     "data": {
      "text/html": [
       "<table class=\"dataframe\">\n",
       "<caption>A data.frame: 6 × 3</caption>\n",
       "<thead>\n",
       "\t<tr><th></th><th scope=col>ensembl_gene_id</th><th scope=col>external_gene_name</th><th scope=col>hgnc_symbol</th></tr>\n",
       "\t<tr><th></th><th scope=col>&lt;chr&gt;</th><th scope=col>&lt;chr&gt;</th><th scope=col>&lt;chr&gt;</th></tr>\n",
       "</thead>\n",
       "<tbody>\n",
       "\t<tr><th scope=row>1</th><td>ENSMFAG00000000043</td><td>MCCC1   </td><td>MCCC1   </td></tr>\n",
       "\t<tr><th scope=row>2</th><td>ENSMFAG00000000045</td><td>        </td><td>        </td></tr>\n",
       "\t<tr><th scope=row>3</th><td>ENSMFAG00000000049</td><td>C1orf185</td><td>C1orf185</td></tr>\n",
       "\t<tr><th scope=row>4</th><td>ENSMFAG00000000068</td><td>IL22RA1 </td><td>IL22RA1 </td></tr>\n",
       "\t<tr><th scope=row>5</th><td>ENSMFAG00000000070</td><td>POMGNT1 </td><td>POMGNT1 </td></tr>\n",
       "\t<tr><th scope=row>6</th><td>ENSMFAG00000000076</td><td>CD247   </td><td>CD247   </td></tr>\n",
       "</tbody>\n",
       "</table>\n"
      ],
      "text/latex": [
       "A data.frame: 6 × 3\n",
       "\\begin{tabular}{r|lll}\n",
       "  & ensembl\\_gene\\_id & external\\_gene\\_name & hgnc\\_symbol\\\\\n",
       "  & <chr> & <chr> & <chr>\\\\\n",
       "\\hline\n",
       "\t1 & ENSMFAG00000000043 & MCCC1    & MCCC1   \\\\\n",
       "\t2 & ENSMFAG00000000045 &          &         \\\\\n",
       "\t3 & ENSMFAG00000000049 & C1orf185 & C1orf185\\\\\n",
       "\t4 & ENSMFAG00000000068 & IL22RA1  & IL22RA1 \\\\\n",
       "\t5 & ENSMFAG00000000070 & POMGNT1  & POMGNT1 \\\\\n",
       "\t6 & ENSMFAG00000000076 & CD247    & CD247   \\\\\n",
       "\\end{tabular}\n"
      ],
      "text/markdown": [
       "\n",
       "A data.frame: 6 × 3\n",
       "\n",
       "| <!--/--> | ensembl_gene_id &lt;chr&gt; | external_gene_name &lt;chr&gt; | hgnc_symbol &lt;chr&gt; |\n",
       "|---|---|---|---|\n",
       "| 1 | ENSMFAG00000000043 | MCCC1    | MCCC1    |\n",
       "| 2 | ENSMFAG00000000045 | <!----> | <!----> |\n",
       "| 3 | ENSMFAG00000000049 | C1orf185 | C1orf185 |\n",
       "| 4 | ENSMFAG00000000068 | IL22RA1  | IL22RA1  |\n",
       "| 5 | ENSMFAG00000000070 | POMGNT1  | POMGNT1  |\n",
       "| 6 | ENSMFAG00000000076 | CD247    | CD247    |\n",
       "\n"
      ],
      "text/plain": [
       "  ensembl_gene_id    external_gene_name hgnc_symbol\n",
       "1 ENSMFAG00000000043 MCCC1              MCCC1      \n",
       "2 ENSMFAG00000000045                               \n",
       "3 ENSMFAG00000000049 C1orf185           C1orf185   \n",
       "4 ENSMFAG00000000068 IL22RA1            IL22RA1    \n",
       "5 ENSMFAG00000000070 POMGNT1            POMGNT1    \n",
       "6 ENSMFAG00000000076 CD247              CD247      "
      ]
     },
     "metadata": {},
     "output_type": "display_data"
    }
   ],
   "source": [
    "entrez=df_genes$V1\n",
    "gene_anno = getBM(attributes = c('ensembl_gene_id', 'external_gene_name','hgnc_symbol'), \n",
    "              filters = 'ensembl_gene_id', \n",
    "              values = entrez, \n",
    "              mart = ensembl)\n",
    "head(gene_anno)"
   ]
  },
  {
   "cell_type": "code",
   "execution_count": 11,
   "id": "a1f18cbc",
   "metadata": {},
   "outputs": [],
   "source": [
    "write.csv(gene_anno, 'gene_anno.csv')"
   ]
  },
  {
   "cell_type": "code",
   "execution_count": null,
   "id": "b2b74134",
   "metadata": {},
   "outputs": [],
   "source": []
  }
 ],
 "metadata": {
  "kernelspec": {
   "display_name": "R [conda env:env_ngs]",
   "language": "R",
   "name": "conda-env-env_ngs-r"
  },
  "language_info": {
   "codemirror_mode": "r",
   "file_extension": ".r",
   "mimetype": "text/x-r-source",
   "name": "R",
   "pygments_lexer": "r",
   "version": "4.1.3"
  }
 },
 "nbformat": 4,
 "nbformat_minor": 5
}
